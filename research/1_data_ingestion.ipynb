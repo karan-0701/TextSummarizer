{
 "cells": [
  {
   "cell_type": "markdown",
   "id": "5f45bad6",
   "metadata": {},
   "source": [
    "### Data Ingestion Module"
   ]
  },
  {
   "cell_type": "code",
   "execution_count": 1,
   "id": "bb3643cc",
   "metadata": {},
   "outputs": [
    {
     "data": {
      "text/plain": [
       "'/Users/karandeepsingh/Desktop/MLOps/TextSummarizer/research'"
      ]
     },
     "execution_count": 1,
     "metadata": {},
     "output_type": "execute_result"
    }
   ],
   "source": [
    "import os\n",
    "%pwd"
   ]
  },
  {
   "cell_type": "code",
   "execution_count": 2,
   "id": "6c3e52fd",
   "metadata": {},
   "outputs": [
    {
     "data": {
      "text/plain": [
       "'/Users/karandeepsingh/Desktop/MLOps/TextSummarizer'"
      ]
     },
     "execution_count": 2,
     "metadata": {},
     "output_type": "execute_result"
    }
   ],
   "source": [
    "os.chdir(\"../\")\n",
    "%pwd"
   ]
  },
  {
   "cell_type": "code",
   "execution_count": 3,
   "id": "e6ce615b",
   "metadata": {},
   "outputs": [],
   "source": [
    "from dataclasses import dataclass\n",
    "from pathlib import Path\n",
    "\n",
    "@dataclass\n",
    "class DataIngestionConfig:\n",
    "    root_dir: Path\n",
    "    source_url: Path\n",
    "    local_data_file: Path\n",
    "    unzip_dir: Path"
   ]
  },
  {
   "cell_type": "code",
   "execution_count": 4,
   "id": "4580e268",
   "metadata": {},
   "outputs": [],
   "source": [
    "from src.textSummarizer.constants import *\n",
    "from src.textSummarizer.utils.commons import read_yaml, create_directories"
   ]
  },
  {
   "cell_type": "code",
   "execution_count": 5,
   "id": "33212d87",
   "metadata": {},
   "outputs": [],
   "source": [
    "class ConfigurationManager:\n",
    "    def __init__(self,\n",
    "                config_path=CONFIG_FILE_PATH,\n",
    "                params_filepath=PARAMS_FILE_PATH):\n",
    "        self.config=read_yaml(config_path)\n",
    "        self.params=read_yaml(params_filepath)\n",
    "        \n",
    "        create_directories([self.config.artifacts_root])\n",
    "    \n",
    "    def get_data_ingestion_config(self) -> DataIngestionConfig:\n",
    "        config = self.config.data_ingestion\n",
    "        create_directories([config.root_dir])\n",
    "        return DataIngestionConfig(\n",
    "            root_dir=config.root_dir,\n",
    "            source_url=config.source_url,\n",
    "            local_data_file=config.local_data_file,\n",
    "            unzip_dir=config.unzip_dir\n",
    "        )"
   ]
  },
  {
   "cell_type": "code",
   "execution_count": 10,
   "id": "f8ce379c",
   "metadata": {},
   "outputs": [],
   "source": [
    "import os\n",
    "import urllib.request as request\n",
    "import zipfile\n",
    "from src.textSummarizer.logging import logger\n",
    "\n",
    "class DataIngestion:\n",
    "    def __init__(self, config: DataIngestionConfig):\n",
    "        self.config=config\n",
    "    \n",
    "    def download_file(self):\n",
    "        if not os.path.exists(self.config.local_data_file):\n",
    "            request.urlretrieve(self.config.source_url, self.config.local_data_file)\n",
    "            logger.info(f\"File downloaded to {self.config.local_data_file}\")\n",
    "        else:\n",
    "            logger.info(\"File already exists\")\n",
    "    \n",
    "    def extract_zip_file(self):\n",
    "        os.makedirs(self.config.unzip_dir, exist_ok=True)\n",
    "        with zipfile.ZipFile(self.config.local_data_file, 'r') as zip_ref:\n",
    "            zip_ref.extractall(self.config.unzip_dir)\n",
    "            logger.info(f\"Extracted zip file to {self.config.unzip_dir}\")      "
   ]
  },
  {
   "cell_type": "code",
   "execution_count": 11,
   "id": "22bec881",
   "metadata": {},
   "outputs": [
    {
     "name": "stdout",
     "output_type": "stream",
     "text": [
      "[2025-09-10 19:55:16,708: INFO: commons: yaml file: config/config.yaml loaded successfully]\n",
      "[2025-09-10 19:55:16,714: INFO: commons: yaml file: params.yaml loaded successfully]\n",
      "[2025-09-10 19:55:16,715: INFO: commons: created a directory at: artifacts]\n",
      "[2025-09-10 19:55:16,716: INFO: commons: created a directory at: artifacts/data_ingestion]\n",
      "[2025-09-10 19:55:16,716: INFO: 3012347994: File already exists]\n",
      "[2025-09-10 19:55:16,812: INFO: 3012347994: Extracted zip file to artifacts/data_ingestion]\n"
     ]
    }
   ],
   "source": [
    "config=ConfigurationManager()\n",
    "data_ingestion_config=config.get_data_ingestion_config()\n",
    "data_ingestion=DataIngestion(config=data_ingestion_config)\n",
    "\n",
    "data_ingestion.download_file()\n",
    "data_ingestion.extract_zip_file()"
   ]
  },
  {
   "cell_type": "code",
   "execution_count": null,
   "id": "a3af3098",
   "metadata": {},
   "outputs": [],
   "source": []
  }
 ],
 "metadata": {
  "kernelspec": {
   "display_name": "venv",
   "language": "python",
   "name": "python3"
  },
  "language_info": {
   "codemirror_mode": {
    "name": "ipython",
    "version": 3
   },
   "file_extension": ".py",
   "mimetype": "text/x-python",
   "name": "python",
   "nbconvert_exporter": "python",
   "pygments_lexer": "ipython3",
   "version": "3.10.8"
  }
 },
 "nbformat": 4,
 "nbformat_minor": 5
}
