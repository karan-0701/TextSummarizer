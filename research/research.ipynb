{
 "cells": [
  {
   "cell_type": "code",
   "execution_count": 3,
   "id": "cf9a4e99",
   "metadata": {},
   "outputs": [
    {
     "data": {
      "text/plain": [
       "'Karandeep'"
      ]
     },
     "execution_count": 3,
     "metadata": {},
     "output_type": "execute_result"
    }
   ],
   "source": [
    "dict_info={\"name\": \"Karandeep\", \"lastname\": \"Naik\"}\n",
    "dict_info[\"name\"]"
   ]
  },
  {
   "cell_type": "code",
   "execution_count": 4,
   "id": "44cf91c7",
   "metadata": {},
   "outputs": [
    {
     "data": {
      "text/plain": [
       "'Karandeep'"
      ]
     },
     "execution_count": 4,
     "metadata": {},
     "output_type": "execute_result"
    }
   ],
   "source": [
    "from box import ConfigBox\n",
    "dict_info=ConfigBox({\"name\":\"Karandeep\", \"lastname\": \"Singh\"})\n",
    "dict_info.name"
   ]
  },
  {
   "cell_type": "code",
   "execution_count": 5,
   "id": "0552bec3",
   "metadata": {},
   "outputs": [],
   "source": [
    "def summation(x: int, y:int)-> int:\n",
    "    return x+y"
   ]
  },
  {
   "cell_type": "code",
   "execution_count": 6,
   "id": "c28d14dc",
   "metadata": {},
   "outputs": [],
   "source": [
    "from ensure import ensure_annotations\n",
    "\n",
    "@ensure_annotations\n",
    "def summation(x:int, y:int)->int:\n",
    "    return x+y"
   ]
  },
  {
   "cell_type": "code",
   "execution_count": null,
   "id": "9d96bb79",
   "metadata": {},
   "outputs": [],
   "source": []
  }
 ],
 "metadata": {
  "kernelspec": {
   "display_name": "venv",
   "language": "python",
   "name": "python3"
  },
  "language_info": {
   "codemirror_mode": {
    "name": "ipython",
    "version": 3
   },
   "file_extension": ".py",
   "mimetype": "text/x-python",
   "name": "python",
   "nbconvert_exporter": "python",
   "pygments_lexer": "ipython3",
   "version": "3.10.8"
  }
 },
 "nbformat": 4,
 "nbformat_minor": 5
}
